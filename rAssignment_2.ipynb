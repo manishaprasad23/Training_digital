{
  "nbformat": 4,
  "nbformat_minor": 0,
  "metadata": {
    "colab": {
      "name": "rAssignment_2.ipynb",
      "provenance": [],
      "toc_visible": true,
      "include_colab_link": true
    },
    "kernelspec": {
      "name": "python3",
      "display_name": "Python 3"
    }
  },
  "cells": [
    {
      "cell_type": "markdown",
      "metadata": {
        "id": "view-in-github",
        "colab_type": "text"
      },
      "source": [
        "<a href=\"https://colab.research.google.com/github/manishaprasad23/Training_digital/blob/master/rAssignment_2.ipynb\" target=\"_parent\"><img src=\"https://colab.research.google.com/assets/colab-badge.svg\" alt=\"Open In Colab\"/></a>"
      ]
    },
    {
      "cell_type": "code",
      "metadata": {
        "id": "RYix_IUjyTo6",
        "colab_type": "code",
        "colab": {
          "base_uri": "https://localhost:8080/",
          "height": 62
        },
        "outputId": "4aaaeb3d-4608-4adb-a2ed-502c2c6f9162"
      },
      "source": [
        "#We upload all the packages we need\n",
        "%matplotlib inline\n",
        "import matplotlib.pyplot as plt\n",
        "import tensorflow as tf\n",
        "import numpy as np\n",
        "import time\n",
        "from datetime import timedelta\n",
        "import math\n",
        "import os\n",
        "import scipy.misc\n",
        "from scipy.stats import itemfreq\n",
        "from random import sample\n",
        "import pickle\n",
        "from sklearn.metrics import confusion_matrix\n",
        "from sklearn.model_selection import train_test_split\n",
        "\n",
        "# Image manipulation.\n",
        "import PIL.Image\n",
        "from IPython.display import display\n",
        "#from resizeimage import resizeimage\n",
        "\n",
        "#Panda\n",
        "import pandas as pd\n",
        "\n",
        "#Open a Zip File\n",
        "from zipfile import ZipFile\n",
        "from io import BytesIO"
      ],
      "execution_count": 1,
      "outputs": [
        {
          "output_type": "display_data",
          "data": {
            "text/html": [
              "<p style=\"color: red;\">\n",
              "The default version of TensorFlow in Colab will soon switch to TensorFlow 2.x.<br>\n",
              "We recommend you <a href=\"https://www.tensorflow.org/guide/migrate\" target=\"_blank\">upgrade</a> now \n",
              "or ensure your notebook will continue to use TensorFlow 1.x via the <code>%tensorflow_version 1.x</code> magic:\n",
              "<a href=\"https://colab.research.google.com/notebooks/tensorflow_version.ipynb\" target=\"_blank\">more info</a>.</p>\n"
            ],
            "text/plain": [
              "<IPython.core.display.HTML object>"
            ]
          },
          "metadata": {
            "tags": []
          }
        }
      ]
    },
    {
      "cell_type": "code",
      "metadata": {
        "id": "l5rr2npQynT1",
        "colab_type": "code",
        "colab": {
          "base_uri": "https://localhost:8080/",
          "height": 185
        },
        "outputId": "d6f120e0-e0fb-4223-b93b-cbee35e8180f"
      },
      "source": [
        "# arch_train = ZipFile(\"train.zip\", 'r')\n",
        "arch_test = ZipFile(\"test.zip\", 'r')\n",
        "\n",
        "arch_train.namelist()[0:10]"
      ],
      "execution_count": 3,
      "outputs": [
        {
          "output_type": "execute_result",
          "data": {
            "text/plain": [
              "['000bec180eb18c7604dcecc8fe0dba07.jpg',\n",
              " '001513dfcb2ffafc82cccf4d8bbaba97.jpg',\n",
              " '001cdf01b096e06d78e9e5112d419397.jpg',\n",
              " '00214f311d5d2247d5dfe4fe24b2303d.jpg',\n",
              " '0021f9ceb3235effd7fcde7f7538ed62.jpg',\n",
              " '002211c81b498ef88e1b40b9abf84e1d.jpg',\n",
              " '00290d3e1fdd27226ba27a8ce248ce85.jpg',\n",
              " '002a283a315af96eaea0e28e7163b21b.jpg',\n",
              " '003df8b8a8b05244b1d920bb6cf451f9.jpg',\n",
              " '0042188c895a2f14ef64a918ed9c7b64.jpg']"
            ]
          },
          "metadata": {
            "tags": []
          },
          "execution_count": 3
        }
      ]
    },
    {
      "cell_type": "code",
      "metadata": {
        "id": "m1h41DyLytgb",
        "colab_type": "code",
        "colab": {}
      },
      "source": [
        "len_train = len(arch_train.namelist()[:])-1\n",
        "nwidth = 60\n",
        "nheight = 60\n",
        "ndepth = 3\n",
        "img_train = np.zeros((len_train, nwidth, nheight, ndepth))"
      ],
      "execution_count": 0,
      "outputs": []
    },
    {
      "cell_type": "code",
      "metadata": {
        "id": "f7Qw9IVmyyYg",
        "colab_type": "code",
        "colab": {}
      },
      "source": [
        "for i in range(1,len(arch_train.namelist()[:])):\n",
        "    if not (arch_train.namelist()[i].startswith('__MACOSX/')):\n",
        "        # print(arch_train.namelist()[i])\n",
        "        filename = BytesIO(arch_train.read(arch_train.namelist()[i]))\n",
        "        # print(filename)\n",
        "        image = PIL.Image.open(filename) # open colour image\n",
        "        image = image.resize((nwidth, nheight))\n",
        "        image = np.array(image)\n",
        "        image = np.clip(image/255.0, 0.0, 1.0) #255 = max of the value of a pixel\n",
        "\n",
        "        img_train[i-1]=image"
      ],
      "execution_count": 0,
      "outputs": []
    },
    {
      "cell_type": "code",
      "metadata": {
        "id": "tQA4rv8Ry1lw",
        "colab_type": "code",
        "colab": {}
      },
      "source": [
        "pickle.dump(img_train, open('arch_train' + '.p', \"wb\" ) )"
      ],
      "execution_count": 0,
      "outputs": []
    },
    {
      "cell_type": "code",
      "metadata": {
        "id": "dDx1o32fy2wt",
        "colab_type": "code",
        "colab": {}
      },
      "source": [
        "len_test = len(arch_test.namelist()[:])-1\n",
        "nwidth = 60\n",
        "nheight = 60\n",
        "ndepth = 3\n",
        "img_test = np.zeros((len_test, nwidth, nheight, ndepth))"
      ],
      "execution_count": 0,
      "outputs": []
    },
    {
      "cell_type": "code",
      "metadata": {
        "id": "QU6oVV4UzB2b",
        "colab_type": "code",
        "colab": {}
      },
      "source": [
        "for i in range(1,len(arch_test.namelist()[:])):\n",
        "    if not (arch_test.namelist()[i].startswith('__MACOSX/')):\n",
        "        # print(arch_test.namelist()[i])\n",
        "        filename = BytesIO(arch_test.read(arch_test.namelist()[i]))\n",
        "        # print(filename)\n",
        "        image = PIL.Image.open(filename) # open colour image\n",
        "        image = image.resize((nwidth, nheight))\n",
        "        image = np.array(image)\n",
        "        image = np.clip(image/255.0, 0.0, 1.0) #255 = max of the value of a pixel\n",
        "\n",
        "        img_test[i-1]=image"
      ],
      "execution_count": 0,
      "outputs": []
    },
    {
      "cell_type": "code",
      "metadata": {
        "id": "L8uJFHJ1272x",
        "colab_type": "code",
        "colab": {}
      },
      "source": [
        "pickle.dump(img_test, open('arch_test' + '.p', \"wb\" ) )\n"
      ],
      "execution_count": 0,
      "outputs": []
    },
    {
      "cell_type": "markdown",
      "metadata": {
        "id": "4Nj5Auf54ZrZ",
        "colab_type": "text"
      },
      "source": [
        "Load data"
      ]
    },
    {
      "cell_type": "code",
      "metadata": {
        "id": "XYVE7uGj3NRZ",
        "colab_type": "code",
        "colab": {}
      },
      "source": [
        "train = pickle.load( open( \"arch_train.p\", \"rb\" ) )\n",
        "test = pickle.load( open( \"arch_test.p\", \"rb\" ) )"
      ],
      "execution_count": 0,
      "outputs": []
    },
    {
      "cell_type": "code",
      "metadata": {
        "id": "b8D0-waa6RPa",
        "colab_type": "code",
        "outputId": "acdb5331-0ef6-4a35-caba-e2d369f7fec2",
        "colab": {
          "base_uri": "https://localhost:8080/",
          "height": 195
        }
      },
      "source": [
        "labels_1 = pd.read_csv(\"labels.csv\", header=0, sep=',', quotechar='\"')\n",
        "labels_1.sample(5)\n"
      ],
      "execution_count": 11,
      "outputs": [
        {
          "output_type": "execute_result",
          "data": {
            "text/html": [
              "<div>\n",
              "<style scoped>\n",
              "    .dataframe tbody tr th:only-of-type {\n",
              "        vertical-align: middle;\n",
              "    }\n",
              "\n",
              "    .dataframe tbody tr th {\n",
              "        vertical-align: top;\n",
              "    }\n",
              "\n",
              "    .dataframe thead th {\n",
              "        text-align: right;\n",
              "    }\n",
              "</style>\n",
              "<table border=\"1\" class=\"dataframe\">\n",
              "  <thead>\n",
              "    <tr style=\"text-align: right;\">\n",
              "      <th></th>\n",
              "      <th>id</th>\n",
              "      <th>breed</th>\n",
              "    </tr>\n",
              "  </thead>\n",
              "  <tbody>\n",
              "    <tr>\n",
              "      <th>2122</th>\n",
              "      <td>34e117ba59c3244382726f68196b0ecb</td>\n",
              "      <td>norwich_terrier</td>\n",
              "    </tr>\n",
              "    <tr>\n",
              "      <th>852</th>\n",
              "      <td>14c8f5fc68ca8fb6b33a0082849b15ad</td>\n",
              "      <td>miniature_schnauzer</td>\n",
              "    </tr>\n",
              "    <tr>\n",
              "      <th>4371</th>\n",
              "      <td>6d0eae6ef2b3b419bea61e11698a6238</td>\n",
              "      <td>kerry_blue_terrier</td>\n",
              "    </tr>\n",
              "    <tr>\n",
              "      <th>8426</th>\n",
              "      <td>d3a8cdfa1c884e4a2557ca711bcfcfe2</td>\n",
              "      <td>flat-coated_retriever</td>\n",
              "    </tr>\n",
              "    <tr>\n",
              "      <th>1953</th>\n",
              "      <td>302787e28465a9b52f421de708046251</td>\n",
              "      <td>kerry_blue_terrier</td>\n",
              "    </tr>\n",
              "  </tbody>\n",
              "</table>\n",
              "</div>"
            ],
            "text/plain": [
              "                                    id                  breed\n",
              "2122  34e117ba59c3244382726f68196b0ecb        norwich_terrier\n",
              "852   14c8f5fc68ca8fb6b33a0082849b15ad    miniature_schnauzer\n",
              "4371  6d0eae6ef2b3b419bea61e11698a6238     kerry_blue_terrier\n",
              "8426  d3a8cdfa1c884e4a2557ca711bcfcfe2  flat-coated_retriever\n",
              "1953  302787e28465a9b52f421de708046251     kerry_blue_terrier"
            ]
          },
          "metadata": {
            "tags": []
          },
          "execution_count": 11
        }
      ]
    },
    {
      "cell_type": "code",
      "metadata": {
        "id": "s7oD6q7v6pYx",
        "colab_type": "code",
        "outputId": "81eed6fe-6683-458e-b1a5-85dc9b52faaf",
        "colab": {
          "base_uri": "https://localhost:8080/",
          "height": 67
        }
      },
      "source": [
        "nbreeds = 5\n",
        "\n",
        "labels_frq= itemfreq(labels_1[\"breed\"])\n",
        "labels_frq = labels_frq[labels_frq[:, 1].argsort()[::-1]] "
      ],
      "execution_count": 12,
      "outputs": [
        {
          "output_type": "stream",
          "text": [
            "/usr/local/lib/python3.6/dist-packages/ipykernel_launcher.py:3: DeprecationWarning: `itemfreq` is deprecated!\n",
            "`itemfreq` is deprecated and will be removed in a future version. Use instead `np.unique(..., return_counts=True)`\n",
            "  This is separate from the ipykernel package so we can avoid doing imports until\n"
          ],
          "name": "stderr"
        }
      ]
    },
    {
      "cell_type": "code",
      "metadata": {
        "id": "3eDXxLdt7Dhm",
        "colab_type": "code",
        "colab": {}
      },
      "source": [
        "main_labels = labels_frq[:,0][0:nbreeds]"
      ],
      "execution_count": 0,
      "outputs": []
    },
    {
      "cell_type": "code",
      "metadata": {
        "id": "iwm_eXXA7Mne",
        "colab_type": "code",
        "outputId": "af1322a5-c573-4741-bc7e-33b923715474",
        "colab": {
          "base_uri": "https://localhost:8080/",
          "height": 70
        }
      },
      "source": [
        "labels_1_np = labels_1[\"breed\"].as_matrix()\n",
        "labels_1_np = labels_1_np.reshape(labels_1_np.shape[0],1)"
      ],
      "execution_count": 14,
      "outputs": [
        {
          "output_type": "stream",
          "text": [
            "/usr/local/lib/python3.6/dist-packages/ipykernel_launcher.py:1: FutureWarning: Method .as_matrix will be removed in a future version. Use .values instead.\n",
            "  \"\"\"Entry point for launching an IPython kernel.\n"
          ],
          "name": "stderr"
        }
      ]
    },
    {
      "cell_type": "code",
      "metadata": {
        "id": "-DFq4MV07jyV",
        "colab_type": "code",
        "colab": {}
      },
      "source": [
        "labels_filter_i= np.where(labels_1_np == main_labels)"
      ],
      "execution_count": 0,
      "outputs": []
    },
    {
      "cell_type": "code",
      "metadata": {
        "id": "K6zK92bV731G",
        "colab_type": "code",
        "colab": {}
      },
      "source": [
        "labels_filtered = labels_1.iloc[labels_filter_i[0],:]"
      ],
      "execution_count": 0,
      "outputs": []
    },
    {
      "cell_type": "code",
      "metadata": {
        "id": "EtMJFxov7teK",
        "colab_type": "code",
        "colab": {}
      },
      "source": [
        "train_filtered = train[labels_filter_i[0],:,:,:]"
      ],
      "execution_count": 0,
      "outputs": []
    },
    {
      "cell_type": "code",
      "metadata": {
        "id": "-ged07Cm8Eux",
        "colab_type": "code",
        "outputId": "b602699b-a7a4-4409-d794-0b92b26fe695",
        "colab": {
          "base_uri": "https://localhost:8080/",
          "height": 34
        }
      },
      "source": [
        "train_filtered.shape"
      ],
      "execution_count": 18,
      "outputs": [
        {
          "output_type": "execute_result",
          "data": {
            "text/plain": [
              "(588, 60, 60, 3)"
            ]
          },
          "metadata": {
            "tags": []
          },
          "execution_count": 18
        }
      ]
    },
    {
      "cell_type": "markdown",
      "metadata": {
        "id": "2sR3dZCZ9Bkx",
        "colab_type": "text"
      },
      "source": [
        "Preprocessing labels"
      ]
    },
    {
      "cell_type": "code",
      "metadata": {
        "id": "6mJHJdQu8NbK",
        "colab_type": "code",
        "outputId": "eef1060f-b9db-4f89-8c37-d9caee33daf0",
        "colab": {
          "base_uri": "https://localhost:8080/",
          "height": 70
        }
      },
      "source": [
        "label = labels_filtered[\"breed\"].as_matrix()\n",
        "label = label.reshape(label.shape[0],1)"
      ],
      "execution_count": 19,
      "outputs": [
        {
          "output_type": "stream",
          "text": [
            "/usr/local/lib/python3.6/dist-packages/ipykernel_launcher.py:1: FutureWarning: Method .as_matrix will be removed in a future version. Use .values instead.\n",
            "  \"\"\"Entry point for launching an IPython kernel.\n"
          ],
          "name": "stderr"
        }
      ]
    },
    {
      "cell_type": "code",
      "metadata": {
        "id": "n6wQfHDm8d3E",
        "colab_type": "code",
        "outputId": "a34cf33a-d6f3-47b7-dcf8-63ea282d679d",
        "colab": {
          "base_uri": "https://localhost:8080/",
          "height": 34
        }
      },
      "source": [
        "label.shape"
      ],
      "execution_count": 20,
      "outputs": [
        {
          "output_type": "execute_result",
          "data": {
            "text/plain": [
              "(588, 1)"
            ]
          },
          "metadata": {
            "tags": []
          },
          "execution_count": 20
        }
      ]
    },
    {
      "cell_type": "code",
      "metadata": {
        "id": "QuL-ROnk8ifK",
        "colab_type": "code",
        "colab": {}
      },
      "source": [
        "labels_np = np.array([])\n",
        "label_names, label_counts = np.unique(label, return_inverse=True)"
      ],
      "execution_count": 0,
      "outputs": []
    },
    {
      "cell_type": "code",
      "metadata": {
        "id": "GkBjc8tO9TJd",
        "colab_type": "code",
        "outputId": "0de9cffd-31a5-4e10-bc9e-e5c6776edac0",
        "colab": {
          "base_uri": "https://localhost:8080/",
          "height": 118
        }
      },
      "source": [
        "for _, i in enumerate(itemfreq(label_counts)[:,0].astype(int)):\n",
        "  labels_np0 = np.where(label_counts == itemfreq(label_counts)[:,0][i], 1., 0.)\n",
        "  labels_np0 = labels_np0.reshape(1,labels_np0.shape[0])\n",
        "\n",
        "  if (labels_np.shape[0] == 0):\n",
        "            labels_np = labels_np0\n",
        "  else:\n",
        "            labels_np = np.concatenate((labels_np,labels_np0 ),axis=0)"
      ],
      "execution_count": 22,
      "outputs": [
        {
          "output_type": "stream",
          "text": [
            "/usr/local/lib/python3.6/dist-packages/ipykernel_launcher.py:1: DeprecationWarning: `itemfreq` is deprecated!\n",
            "`itemfreq` is deprecated and will be removed in a future version. Use instead `np.unique(..., return_counts=True)`\n",
            "  \"\"\"Entry point for launching an IPython kernel.\n",
            "/usr/local/lib/python3.6/dist-packages/ipykernel_launcher.py:2: DeprecationWarning: `itemfreq` is deprecated!\n",
            "`itemfreq` is deprecated and will be removed in a future version. Use instead `np.unique(..., return_counts=True)`\n",
            "  \n"
          ],
          "name": "stderr"
        }
      ]
    },
    {
      "cell_type": "code",
      "metadata": {
        "id": "Ssx6dMnC9-Uf",
        "colab_type": "code",
        "colab": {}
      },
      "source": [
        "\n",
        "labels_np = labels_np.transpose()"
      ],
      "execution_count": 0,
      "outputs": []
    },
    {
      "cell_type": "code",
      "metadata": {
        "id": "ncxKz5Bw_W8z",
        "colab_type": "code",
        "outputId": "e25196d3-5c4a-4aa5-9b32-a3880ea747ac",
        "colab": {
          "base_uri": "https://localhost:8080/",
          "height": 34
        }
      },
      "source": [
        "labels_np.shape"
      ],
      "execution_count": 24,
      "outputs": [
        {
          "output_type": "execute_result",
          "data": {
            "text/plain": [
              "(588, 5)"
            ]
          },
          "metadata": {
            "tags": []
          },
          "execution_count": 24
        }
      ]
    },
    {
      "cell_type": "markdown",
      "metadata": {
        "id": "wW3YKAj5-1sB",
        "colab_type": "text"
      },
      "source": [
        "Check labels"
      ]
    },
    {
      "cell_type": "code",
      "metadata": {
        "id": "MDRQKtL9-Fb6",
        "colab_type": "code",
        "outputId": "9d4ab09b-ab3e-4f1b-8f41-16995b059bf8",
        "colab": {
          "base_uri": "https://localhost:8080/",
          "height": 34
        }
      },
      "source": [
        "label_cls = np.argmax(labels_np, axis = 1)\n",
        "label_names[label_cls[2]]"
      ],
      "execution_count": 25,
      "outputs": [
        {
          "output_type": "execute_result",
          "data": {
            "text/plain": [
              "'scottish_deerhound'"
            ]
          },
          "metadata": {
            "tags": []
          },
          "execution_count": 25
        }
      ]
    },
    {
      "cell_type": "markdown",
      "metadata": {
        "id": "FMA9Ha-R--AZ",
        "colab_type": "text"
      },
      "source": [
        "Test Train data split"
      ]
    },
    {
      "cell_type": "code",
      "metadata": {
        "id": "5eG9KvIy-xcJ",
        "colab_type": "code",
        "colab": {}
      },
      "source": [
        "num_validation = 0.30\n",
        "X_train, X_validation, y_train, y_validation = train_test_split(train_filtered, labels_np, test_size=num_validation, random_state=6)"
      ],
      "execution_count": 0,
      "outputs": []
    },
    {
      "cell_type": "code",
      "metadata": {
        "id": "6Hs46BxT_K7l",
        "colab_type": "code",
        "outputId": "5bdbc057-c2c8-4a33-b138-e1118511b0e1",
        "colab": {
          "base_uri": "https://localhost:8080/",
          "height": 34
        }
      },
      "source": [
        "X_train.shape"
      ],
      "execution_count": 27,
      "outputs": [
        {
          "output_type": "execute_result",
          "data": {
            "text/plain": [
              "(411, 60, 60, 3)"
            ]
          },
          "metadata": {
            "tags": []
          },
          "execution_count": 27
        }
      ]
    },
    {
      "cell_type": "code",
      "metadata": {
        "id": "275sbf-W_i9T",
        "colab_type": "code",
        "colab": {}
      },
      "source": [
        "img_size = 60\n",
        "ndepth = 3\n",
        "img_flat = img_size*img_size\n",
        "_shape = (img_size, img_size, ndepth)\n",
        "nclasses = nbreeds"
      ],
      "execution_count": 0,
      "outputs": []
    },
    {
      "cell_type": "code",
      "metadata": {
        "id": "5-1qDnneASmJ",
        "colab_type": "code",
        "colab": {}
      },
      "source": [
        "def new_wts(shape):\n",
        "  return tf.Variable(tf.truncated_normal(shape, stddev=0.05))"
      ],
      "execution_count": 0,
      "outputs": []
    },
    {
      "cell_type": "code",
      "metadata": {
        "id": "BAnRjCTYDvAR",
        "colab_type": "code",
        "colab": {}
      },
      "source": [
        "def new_biases(length):\n",
        "    return tf.Variable(tf.constant(0.05, shape=[length]))"
      ],
      "execution_count": 0,
      "outputs": []
    },
    {
      "cell_type": "code",
      "metadata": {
        "id": "GQ1K0caoD0id",
        "colab_type": "code",
        "colab": {}
      },
      "source": [
        "\n",
        "def new_conv_layer(input,              # The previous layer.\n",
        "                   num_input_channels, # Num. channels in prev. layer.\n",
        "                   filter_size,        # Width and height of each filter.\n",
        "                   num_filters,        # Number of filters.\n",
        "                   use_pooling=True,\n",
        "                   use_dropout=True):  # Use 2x2 max-pooling.\n",
        "\n",
        "    \n",
        "    shape = [filter_size, filter_size, num_input_channels, num_filters]\n",
        "\n",
        "    weights = new_wts(shape=shape)\n",
        "\n",
        "    biases = new_biases(length=num_filters)\n",
        "\n",
        "\n",
        "    layer = tf.nn.conv2d(input=input,\n",
        "                         filter=weights,\n",
        "                         strides=[1, 1, 1, 1],\n",
        "                         padding='SAME')\n",
        "\n",
        "    \n",
        "    layer += biases\n",
        "\n",
        "    if use_pooling:\n",
        "        \n",
        "        layer = tf.nn.max_pool(value=layer,\n",
        "                               ksize=[1, 2, 2, 1],\n",
        "                               strides=[1, 2, 2, 1],\n",
        "                               padding='SAME')\n",
        "\n",
        "    \n",
        "    layer = tf.nn.relu(layer)\n",
        "    \n",
        "    if use_dropout:\n",
        "        layer = tf.nn.dropout(layer,keep_prob_conv)\n",
        "\n",
        "    return layer, weights"
      ],
      "execution_count": 0,
      "outputs": []
    },
    {
      "cell_type": "code",
      "metadata": {
        "id": "NzSCNNDZEXtZ",
        "colab_type": "code",
        "colab": {}
      },
      "source": [
        "def flatten_layer(layer):\n",
        "    # Get the shape of the input layer.\n",
        "    layer_shape = layer.get_shape()\n",
        "\n",
        "    # The shape of the input layer is assumed to be:\n",
        "    # layer_shape == [num_images, img_height, img_width, num_channels]\n",
        "\n",
        "    # The number of features is: img_height * img_width * num_channels\n",
        "    # We can use a function from TensorFlow to calculate this.\n",
        "    num_features = layer_shape[1:4].num_elements()\n",
        "    \n",
        "    # Reshape the layer to [num_images, num_features].\n",
        "    # Note that we just set the size of the second dimension\n",
        "    # to num_features and the size of the first dimension to -1\n",
        "    # which means the size in that dimension is calculated\n",
        "    # so the total size of the tensor is unchanged from the reshaping.\n",
        "    layer_flat = tf.reshape(layer, [-1, num_features])\n",
        "\n",
        "    # The shape of the flattened layer is now:\n",
        "    # [num_images, img_height * img_width * num_channels]\n",
        "\n",
        "    # Return both the flattened layer and the number of features.\n",
        "    return layer_flat, num_features\n"
      ],
      "execution_count": 0,
      "outputs": []
    },
    {
      "cell_type": "code",
      "metadata": {
        "id": "G76C8EoNEh4i",
        "colab_type": "code",
        "colab": {}
      },
      "source": [
        "def new_fc_layer(input,          # The previous layer.\n",
        "                 num_inputs,     # Num. inputs from prev. layer.\n",
        "                 num_outputs,    # Num. outputs.\n",
        "                 use_relu=True,\n",
        "                 use_dropout=True): # Use Rectified Linear Unit (ReLU)?\n",
        "\n",
        "    # Create new weights and biases.\n",
        "    weights = new_wts(shape=[num_inputs, num_outputs])\n",
        "    biases = new_biases(length=num_outputs)\n",
        "\n",
        "    # Calculate the layer as the matrix multiplication of\n",
        "    # the input and weights, and then add the bias-values.\n",
        "    layer = tf.matmul(input, weights) + biases\n",
        "\n",
        "    # Use ReLU?\n",
        "    if use_relu:\n",
        "        layer = tf.nn.relu(layer)\n",
        "    \n",
        "    if use_dropout:\n",
        "        layer = tf.nn.dropout(layer,keep_prob_fc)\n",
        "        \n",
        "    return layer\n"
      ],
      "execution_count": 0,
      "outputs": []
    },
    {
      "cell_type": "code",
      "metadata": {
        "id": "gXF3iNDLEpa8",
        "colab_type": "code",
        "colab": {}
      },
      "source": [
        "x = tf.placeholder(tf.float32, shape=[None, img_size, img_size, ndepth], name='x')\n",
        "x_image = tf.reshape(x, [-1, img_size, img_size, ndepth]) #-1 put everything as 1 array\n",
        "y_true = tf.placeholder(tf.float32, shape=[None, nclasses], name='y_true')\n",
        "y_true_cls = tf.argmax(y_true, axis=1)\n",
        "keep_prob_fc=tf.placeholder(tf.float32)\n",
        "keep_prob_conv=tf.placeholder(tf.float32)"
      ],
      "execution_count": 0,
      "outputs": []
    },
    {
      "cell_type": "markdown",
      "metadata": {
        "id": "M7BGLuUBFESv",
        "colab_type": "text"
      },
      "source": [
        "layer design"
      ]
    },
    {
      "cell_type": "code",
      "metadata": {
        "id": "EwhxI6t_FA0E",
        "colab_type": "code",
        "colab": {}
      },
      "source": [
        "filter_size1 = 5          # Convolution filters are 5 x 5 pixels.\n",
        "num_filters1 = 32         # There are 32 of these filters.\n",
        "\n",
        "# Convolutional Layer 2.\n",
        "filter_size2 = 4          # Convolution filters are 4 x 4 pixels.\n",
        "num_filters2 = 64      # There are 64 of these filters.\n",
        "\n",
        "# Convolutional Layer 3.\n",
        "filter_size3 = 3          # Convolution filters are 3 x 3 pixels.\n",
        "num_filters3 = 128      # There are 128 of these filters.\n",
        "\n",
        "# Fully-connected layer.\n",
        "fc_size = 500 "
      ],
      "execution_count": 0,
      "outputs": []
    },
    {
      "cell_type": "code",
      "metadata": {
        "id": "9TulwdioFK_F",
        "colab_type": "code",
        "outputId": "ab6d725a-37fb-4149-aea6-656f282fa359",
        "colab": {
          "base_uri": "https://localhost:8080/",
          "height": 87
        }
      },
      "source": [
        "layer_conv1, weights_conv1 = \\\n",
        "    new_conv_layer(input=x_image,\n",
        "                   num_input_channels=ndepth,\n",
        "                   filter_size=filter_size1,\n",
        "                   num_filters=num_filters1,\n",
        "                   use_pooling=True,\n",
        "                   use_dropout=False)\n",
        "    \n",
        "layer_conv2, weights_conv2 = \\\n",
        "    new_conv_layer(input=layer_conv1,\n",
        "                   num_input_channels=num_filters1,\n",
        "                   filter_size=filter_size2,\n",
        "                   num_filters=num_filters2,\n",
        "                   use_pooling=True,\n",
        "                   use_dropout=False)\n",
        "    \n",
        "layer_conv3, weights_conv3 = \\\n",
        "    new_conv_layer(input=layer_conv2,\n",
        "                   num_input_channels=num_filters2,\n",
        "                   filter_size=filter_size3,\n",
        "                   num_filters=num_filters3,\n",
        "                   use_pooling=True,\n",
        "                   use_dropout=True)"
      ],
      "execution_count": 47,
      "outputs": [
        {
          "output_type": "stream",
          "text": [
            "WARNING:tensorflow:From <ipython-input-42-b7a035a0e936>:36: calling dropout (from tensorflow.python.ops.nn_ops) with keep_prob is deprecated and will be removed in a future version.\n",
            "Instructions for updating:\n",
            "Please use `rate` instead of `keep_prob`. Rate should be set to `rate = 1 - keep_prob`.\n"
          ],
          "name": "stdout"
        }
      ]
    },
    {
      "cell_type": "code",
      "metadata": {
        "id": "icpDUbAYFYEX",
        "colab_type": "code",
        "colab": {}
      },
      "source": [
        "layer_flat, num_features = flatten_layer(layer_conv3)"
      ],
      "execution_count": 0,
      "outputs": []
    },
    {
      "cell_type": "code",
      "metadata": {
        "id": "XBXY34irF7DH",
        "colab_type": "code",
        "outputId": "23ec6628-f688-40e6-a75c-cf88d106b4f3",
        "colab": {
          "base_uri": "https://localhost:8080/",
          "height": 34
        }
      },
      "source": [
        "#Train\n",
        "layer_fc1 = new_fc_layer(input=layer_flat,\n",
        "                         num_inputs=num_features,\n",
        "                         num_outputs=fc_size,\n",
        "                         use_relu=True,\n",
        "                         use_dropout=True)\n",
        "\n",
        "layer_fc1\n",
        "\n",
        "layer_fc2 = new_fc_layer(input=layer_fc1,\n",
        "                         num_inputs=fc_size,\n",
        "                         num_outputs=nclasses,\n",
        "                         use_relu=False,\n",
        "                         use_dropout=False)\n",
        "\n",
        "layer_fc2"
      ],
      "execution_count": 49,
      "outputs": [
        {
          "output_type": "execute_result",
          "data": {
            "text/plain": [
              "<tf.Tensor 'add_4:0' shape=(?, 5) dtype=float32>"
            ]
          },
          "metadata": {
            "tags": []
          },
          "execution_count": 49
        }
      ]
    },
    {
      "cell_type": "code",
      "metadata": {
        "id": "xV9gA_RRGALd",
        "colab_type": "code",
        "colab": {}
      },
      "source": [
        "y_pred = tf.nn.softmax(layer_fc2)\n",
        "y_pred_cls = tf.argmax(y_pred, axis=1)"
      ],
      "execution_count": 0,
      "outputs": []
    },
    {
      "cell_type": "code",
      "metadata": {
        "id": "PhdDVNq_GJfD",
        "colab_type": "code",
        "outputId": "55a4c9ec-af80-44ec-e63d-64455a56c90f",
        "colab": {
          "base_uri": "https://localhost:8080/",
          "height": 171
        }
      },
      "source": [
        "cross_entropy = tf.nn.softmax_cross_entropy_with_logits(logits=layer_fc2,\n",
        "                                                        labels=y_true)\n",
        "cost = tf.reduce_mean(cross_entropy)\n",
        "\n",
        "optimizer = tf.train.AdamOptimizer(learning_rate=1e-4).minimize(cost)\n",
        "correct_prediction = tf.equal(y_pred_cls, y_true_cls)\n",
        "accuracy = tf.reduce_mean(tf.cast(correct_prediction, tf.float32))"
      ],
      "execution_count": 51,
      "outputs": [
        {
          "output_type": "stream",
          "text": [
            "WARNING:tensorflow:From <ipython-input-51-ef2667b19cd2>:2: softmax_cross_entropy_with_logits (from tensorflow.python.ops.nn_ops) is deprecated and will be removed in a future version.\n",
            "Instructions for updating:\n",
            "\n",
            "Future major versions of TensorFlow will allow gradients to flow\n",
            "into the labels input on backprop by default.\n",
            "\n",
            "See `tf.nn.softmax_cross_entropy_with_logits_v2`.\n",
            "\n"
          ],
          "name": "stdout"
        }
      ]
    },
    {
      "cell_type": "code",
      "metadata": {
        "id": "IBcjvkZUGrNo",
        "colab_type": "code",
        "colab": {}
      },
      "source": [
        "session = tf.Session()\n",
        "\n",
        "def init_variables():\n",
        "    session.run(tf.global_variables_initializer())"
      ],
      "execution_count": 0,
      "outputs": []
    },
    {
      "cell_type": "code",
      "metadata": {
        "id": "1KS_gq9rHa7i",
        "colab_type": "code",
        "colab": {}
      },
      "source": [
        "batch_size = 50\n",
        "\n",
        "#function next_batch\n",
        "def next_batch(num, data, labels):\n",
        "    '''\n",
        "    Return a total of `num` random samples and labels. \n",
        "    '''\n",
        "    idx = np.arange(0 , len(data))\n",
        "    np.random.shuffle(idx)\n",
        "    idx = idx[:num]\n",
        "    data_shuffle = [data[i] for i in idx]\n",
        "    labels_shuffle = [labels[i] for i in idx]\n",
        "\n",
        "    return np.asarray(data_shuffle), np.asarray(labels_shuffle)"
      ],
      "execution_count": 0,
      "outputs": []
    },
    {
      "cell_type": "code",
      "metadata": {
        "id": "4oTVEN3MHhmr",
        "colab_type": "code",
        "colab": {}
      },
      "source": [
        "def optimize(num_iterations, X):\n",
        "    global total_iterations\n",
        "    \n",
        "    start_time = time.time()\n",
        "    \n",
        "    #array to plot\n",
        "    losses = {'train':[], 'validation':[]}\n",
        "    \n",
        "    for i in range(num_iterations):\n",
        "            total_iterations += 1\n",
        "            # Get a batch of training examples.\n",
        "            # x_batch now holds a batch of images and\n",
        "            # y_true_batch are the true labels for those images.\n",
        "            x_batch, y_true_batch = next_batch(batch_size, X_train, y_train)\n",
        "\n",
        "            # Put the batch into a dict with the proper names\n",
        "            # for placeholder variables in the TensorFlow graph.\n",
        "            feed_dict_train = {x: x_batch,\n",
        "                               y_true: y_true_batch,\n",
        "                               keep_prob_conv : 0.3,\n",
        "                               keep_prob_fc : 0.4}\n",
        "            feed_dict_validation = {x: X_validation,\n",
        "                               y_true: y_validation,\n",
        "                               keep_prob_conv : 1,\n",
        "                               keep_prob_fc : 1}\n",
        "            \n",
        "            # Run the optimizer using this batch of training data.\n",
        "            # TensorFlow assigns the variables in feed_dict_train\n",
        "            # to the placeholder variables and then runs the optimizer.\n",
        "            session.run(optimizer, feed_dict=feed_dict_train)\n",
        "            \n",
        "            acc_train = session.run(accuracy, feed_dict=feed_dict_train)\n",
        "            acc_validation = session.run(accuracy, feed_dict=feed_dict_validation)\n",
        "            losses['train'].append(acc_train)\n",
        "            losses['validation'].append(acc_validation)\n",
        "            \n",
        "            # Print status every X iterations.\n",
        "            if (total_iterations % X == 0) or (i ==(num_iterations -1)):\n",
        "            # Calculate the accuracy on the training-set.\n",
        "                                \n",
        "                msg = \"Iteration: {0:>6}, Training Accuracy: {1:>6.1%}, Validation Accuracy: {2:>6.1%}\"\n",
        "                print(msg.format(total_iterations, acc_train, acc_validation))\n",
        "                \n",
        "    \n",
        "    # Ending time.\n",
        "    end_time = time.time()\n",
        "\n",
        "    # Difference between start and end-times.\n",
        "    time_dif = end_time - start_time\n",
        "\n",
        "    # Print the time-usage.\n",
        "    print(\"Time usage: \" + str(timedelta(seconds=int(round(time_dif)))))\n",
        "    \n",
        "    plt.plot(losses['train'], label='Training loss')\n",
        "    plt.plot(losses['validation'], label='Validation loss')\n",
        "    plt.legend()\n",
        "    _ = plt.ylim()"
      ],
      "execution_count": 0,
      "outputs": []
    },
    {
      "cell_type": "code",
      "metadata": {
        "id": "i_RQN9s-H4e0",
        "colab_type": "code",
        "colab": {}
      },
      "source": [
        "init_variables()\n",
        "total_iterations = 0"
      ],
      "execution_count": 0,
      "outputs": []
    },
    {
      "cell_type": "code",
      "metadata": {
        "id": "O-ka6ibxH6rJ",
        "colab_type": "code",
        "outputId": "e650ede5-84ec-485c-950f-a70e5b1ea12f",
        "colab": {
          "base_uri": "https://localhost:8080/",
          "height": 702
        }
      },
      "source": [
        "optimize(num_iterations=2500, X=100)"
      ],
      "execution_count": 56,
      "outputs": [
        {
          "output_type": "stream",
          "text": [
            "Iteration:    100, Training Accuracy:  24.0%, Validation Accuracy:  19.8%\n",
            "Iteration:    200, Training Accuracy:  30.0%, Validation Accuracy:  22.0%\n",
            "Iteration:    300, Training Accuracy:  26.0%, Validation Accuracy:  18.6%\n",
            "Iteration:    400, Training Accuracy:  24.0%, Validation Accuracy:  20.9%\n",
            "Iteration:    500, Training Accuracy:  34.0%, Validation Accuracy:  20.9%\n",
            "Iteration:    600, Training Accuracy:  52.0%, Validation Accuracy:  22.0%\n",
            "Iteration:    700, Training Accuracy:  42.0%, Validation Accuracy:  22.6%\n",
            "Iteration:    800, Training Accuracy:  58.0%, Validation Accuracy:  19.8%\n",
            "Iteration:    900, Training Accuracy:  62.0%, Validation Accuracy:  18.1%\n",
            "Iteration:   1000, Training Accuracy:  66.0%, Validation Accuracy:  20.9%\n",
            "Iteration:   1100, Training Accuracy:  78.0%, Validation Accuracy:  18.1%\n",
            "Iteration:   1200, Training Accuracy:  78.0%, Validation Accuracy:  18.6%\n",
            "Iteration:   1300, Training Accuracy:  80.0%, Validation Accuracy:  19.2%\n",
            "Iteration:   1400, Training Accuracy:  80.0%, Validation Accuracy:  20.3%\n",
            "Iteration:   1500, Training Accuracy:  92.0%, Validation Accuracy:  20.3%\n",
            "Iteration:   1600, Training Accuracy:  84.0%, Validation Accuracy:  20.9%\n",
            "Iteration:   1700, Training Accuracy:  98.0%, Validation Accuracy:  18.6%\n",
            "Iteration:   1800, Training Accuracy:  94.0%, Validation Accuracy:  20.9%\n",
            "Iteration:   1900, Training Accuracy:  92.0%, Validation Accuracy:  20.3%\n",
            "Iteration:   2000, Training Accuracy:  96.0%, Validation Accuracy:  22.0%\n",
            "Iteration:   2100, Training Accuracy:  96.0%, Validation Accuracy:  19.2%\n",
            "Iteration:   2200, Training Accuracy: 100.0%, Validation Accuracy:  19.8%\n",
            "Iteration:   2300, Training Accuracy:  94.0%, Validation Accuracy:  21.5%\n",
            "Iteration:   2400, Training Accuracy:  98.0%, Validation Accuracy:  22.0%\n",
            "Iteration:   2500, Training Accuracy: 100.0%, Validation Accuracy:  19.8%\n",
            "Time usage: 0:55:25\n"
          ],
          "name": "stdout"
        },
        {
          "output_type": "display_data",
          "data": {
            "image/png": "[encoded data removed]",
            "text/plain": [
              "<Figure size 432x288 with 1 Axes>"
            ]
          },
          "metadata": {
            "tags": []
          }
        }
      ]
    },
    {
      "cell_type": "code",
      "metadata": {
        "id": "_-paAnFyNqQ4",
        "colab_type": "code",
        "colab": {}
      },
      "source": [
        "from google.colab import drive\n",
        "drive.mount('/content/drive')"
      ],
      "execution_count": 0,
      "outputs": []
    },
    {
      "cell_type": "code",
      "metadata": {
        "id": "qEeXRQkUIBCQ",
        "colab_type": "code",
        "colab": {}
      },
      "source": [
        ""
      ],
      "execution_count": 0,
      "outputs": []
    }
  ]
}